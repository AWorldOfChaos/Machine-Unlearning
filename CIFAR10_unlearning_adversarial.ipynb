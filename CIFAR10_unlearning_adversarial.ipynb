{
  "cells": [
    {
      "cell_type": "markdown",
      "metadata": {
        "id": "rg6hMnlC3tdi"
      },
      "source": [
        "<img src='https://unlearning-challenge.github.io/Unlearning-logo.png' width='100px'>\n",
        "\n",
        "# NeurIPS 2023 Machine Unlearning Challenge Starting Kit\n",
        "\n",
        "[![Open in Colab](https://colab.research.google.com/assets/colab-badge.svg)](https://colab.research.google.com/github/unlearning-challenge/starting-kit/blob/main/unlearning-CIFAR10.ipynb) [![Open in Kaggle](https://kaggle.com/static/images/open-in-kaggle.svg)](https://kaggle.com/kernels/welcome?src=https://raw.githubusercontent.com/unlearning-challenge/starting-kit/main/unlearning-CIFAR10.ipynb)\n",
        "\n",
        "\n",
        "This notebook is part of the starting kit for the [NeurIPS 2023 Machine Unlearning Challenge](https://unlearning-challenge.github.io/). This notebook explains the pipeline of the challenge and contains sample unlearning and evaluation code.\n",
        "\n",
        "\n",
        "This notebook has 3 sections:\n",
        "\n",
        "  * 💾 In the first section we'll load a sample dataset (CIFAR10) and pre-trained model (ResNet18).\n",
        "\n",
        "  * 🎯 In the second section we'll develop the unlearning algorithm. We start by splitting the original training set into a retain set and a forget set. The goal of an unlearning algorithm is to update the pre-trained model so that it approximates as much as possible a model that has been trained on the retain set but not on the forget set. We provide a simple unlearning algorithm as a starting point for participants to develop their own unlearning algorithms.\n",
        "\n",
        "  * 🏅 In the third section we'll score our unlearning algorithm using a simple membership inference attacks (MIA). Note that this is a different evaluation than the one that will be used in the competition's submission.\n",
        "  \n",
        "\n",
        "We emphasize that this notebook is provided for convenience to help participants quickly get started. Submissions will be scored using a different method than the one provided in this notebook on a different (private) dataset of human faces. To run the notebook, the requirement is to have installed an up-to-date version of Python and Pytorch."
      ]
    },
    {
      "cell_type": "code",
      "execution_count": null,
      "metadata": {
        "id": "V6YXq1oMM3bj"
      },
      "outputs": [],
      "source": [
        "import os\n",
        "import requests\n",
        "import numpy as np\n",
        "import matplotlib.pyplot as plt\n",
        "from sklearn import linear_model, model_selection\n",
        "\n",
        "import torch\n",
        "from torch import nn\n",
        "from torch import optim\n",
        "from torch.utils.data import DataLoader\n",
        "\n",
        "import torchvision\n",
        "from torchvision import transforms\n",
        "from torchvision.utils import make_grid\n",
        "from torchvision.models import resnet18\n",
        "\n",
        "DEVICE = \"cuda\" if torch.cuda.is_available() else \"cpu\"\n",
        "print(\"Running on device:\", DEVICE.upper())\n",
        "\n",
        "# manual random seed is used for dataset partitioning\n",
        "# to ensure reproducible results across runs\n",
        "RNG = torch.Generator().manual_seed(42)"
      ]
    },
    {
      "cell_type": "markdown",
      "metadata": {
        "id": "CF7zXiGLM3bk"
      },
      "source": [
        "# 💾 Download dataset and pre-trained model\n",
        "\n",
        "In this section, we'll load a sample dataset (CIFAR-10), a pre-trained model (ResNet18) trained on CIFAR-10, plot some images and compute the accuracy of the model on the test set."
      ]
    },
    {
      "cell_type": "code",
      "execution_count": null,
      "metadata": {
        "id": "g5G7DBCoM3bl"
      },
      "outputs": [],
      "source": [
        "# download and pre-process CIFAR10\n",
        "normalize = transforms.Compose(\n",
        "    [\n",
        "        transforms.ToTensor(),\n",
        "        transforms.Normalize((0.4914, 0.4822, 0.4465), (0.2023, 0.1994, 0.2010)),\n",
        "    ]\n",
        ")\n",
        "\n",
        "train_set = torchvision.datasets.CIFAR10(\n",
        "    root=\"./data\", train=True, download=True, transform=normalize\n",
        ")\n",
        "train_loader = DataLoader(train_set, batch_size=128, shuffle=True, num_workers=2)\n",
        "\n",
        "# we split held out data into test and validation set\n",
        "held_out = torchvision.datasets.CIFAR10(\n",
        "    root=\"./data\", train=False, download=True, transform=normalize\n",
        ")\n",
        "test_set, val_set = torch.utils.data.random_split(held_out, [0.5, 0.5], generator=RNG)\n",
        "test_loader = DataLoader(test_set, batch_size=128, shuffle=False, num_workers=2)\n",
        "val_loader = DataLoader(val_set, batch_size=128, shuffle=False, num_workers=2)\n",
        "\n",
        "# download the forget and retain index split\n",
        "local_path = \"forget_idx.npy\"\n",
        "if not os.path.exists(local_path):\n",
        "    response = requests.get(\n",
        "        \"https://storage.googleapis.com/unlearning-challenge/\" + local_path\n",
        "    )\n",
        "    open(local_path, \"wb\").write(response.content)\n",
        "forget_idx = np.load(local_path)\n",
        "\n",
        "# construct indices of retain from those of the forget set\n",
        "forget_mask = np.zeros(len(train_set.targets), dtype=bool)\n",
        "forget_mask[forget_idx] = True\n",
        "retain_idx = np.arange(forget_mask.size)[~forget_mask]\n",
        "\n",
        "# split train set into a forget and a retain set\n",
        "forget_set = torch.utils.data.Subset(train_set, forget_idx)\n",
        "retain_set = torch.utils.data.Subset(train_set, retain_idx)\n",
        "\n",
        "forget_loader = torch.utils.data.DataLoader(\n",
        "    forget_set, batch_size=128, shuffle=True, num_workers=2\n",
        ")\n",
        "retain_loader = torch.utils.data.DataLoader(\n",
        "    retain_set, batch_size=128, shuffle=True, num_workers=2, generator=RNG\n",
        ")"
      ]
    },
    {
      "cell_type": "code",
      "execution_count": null,
      "metadata": {
        "id": "Jjw_vAGcfM-p"
      },
      "outputs": [],
      "source": []
    },
    {
      "cell_type": "code",
      "execution_count": null,
      "metadata": {
        "id": "ommVvYILagL2"
      },
      "outputs": [],
      "source": [
        "# from torch.utils.data.sampler import Sampler\n",
        "\n",
        "# # download and pre-process CIFAR10\n",
        "# normalize = transforms.Compose(\n",
        "#     [\n",
        "#         transforms.ToTensor(),\n",
        "#         transforms.Normalize((0.4914, 0.4822, 0.4465), (0.2023, 0.1994, 0.2010)),\n",
        "#     ]\n",
        "# )\n",
        "\n",
        "# train_set = torchvision.datasets.CIFAR10(\n",
        "#     root=\"./data\", train=True, download=True, transform=normalize\n",
        "# )\n",
        "# train_loader = DataLoader(train_set, batch_size=128, shuffle=True, num_workers=2)\n",
        "\n",
        "# # we split held out data into test and validation set\n",
        "# held_out = torchvision.datasets.CIFAR10(\n",
        "#     root=\"./data\", train=False, download=True, transform=normalize\n",
        "# )\n",
        "# test_set, val_set = torch.utils.data.random_split(held_out, [0.5, 0.5], generator=RNG)\n",
        "# # test_loader = DataLoader(test_set, batch_size=128, shuffle=False, num_workers=2)\n",
        "# val_loader = DataLoader(val_set, batch_size=128, shuffle=False, num_workers=2)\n",
        "# class_to_forget = 0\n",
        "\n",
        "# forget_mask = np.array(train_set.targets)==(np.zeros(len(train_set.targets))+class_to_forget)\n",
        "# forget_idx = np.arange(forget_mask.size)[forget_mask]\n",
        "# retain_idx = np.arange(forget_mask.size)[~forget_mask]\n",
        "\n",
        "# # split train set into a forget and a retain set\n",
        "# forget_set = torch.utils.data.Subset(train_set, forget_idx)\n",
        "# retain_set = torch.utils.data.Subset(train_set, retain_idx)\n",
        "\n",
        "# test_mask = np.array(test_set.dataset.targets)==(np.zeros(len(test_set.dataset.targets))+class_to_forget)\n",
        "# test_idx = np.arange(test_mask.size)[test_mask]\n",
        "# test_set = torch.utils.data.Subset(test_set, test_idx)\n",
        "# test_loader = torch.utils.data.DataLoader(\n",
        "#     test_set.dataset.dataset, batch_size=128,shuffle=False , num_workers=2\n",
        "# )\n",
        "\n",
        "# forget_loader = torch.utils.data.DataLoader(\n",
        "#     forget_set, batch_size=128, shuffle=True, num_workers=2\n",
        "# )\n",
        "# retain_loader = torch.utils.data.DataLoader(\n",
        "#     retain_set, batch_size=128, shuffle=True, num_workers=2, generator=RNG\n",
        "# )"
      ]
    },
    {
      "cell_type": "markdown",
      "metadata": {
        "id": "WiwASOO1wzsx"
      },
      "source": [
        "We'll now download the weights of the model trained in CIFAR-10 and load them in a Pytorch model. This model has been trained using SGD with a learning rate of 0.1, momentum of 0.9 and weight decay of 5e-4. It was also trained using data augmentation. In particular, the transforms used to the data were:\n",
        "\n",
        "```python\n",
        "transform_train = transforms.Compose([\n",
        "    transforms.RandomCrop(32, padding=4),\n",
        "    transforms.RandomHorizontalFlip(),\n",
        "    transforms.ToTensor(),\n",
        "    transforms.Normalize((0.4914, 0.4822, 0.4465), (0.2023, 0.1994, 0.2010)),\n",
        "])\n",
        "```\n"
      ]
    },
    {
      "cell_type": "code",
      "execution_count": null,
      "metadata": {
        "id": "5Rn6UKX_M3bl"
      },
      "outputs": [],
      "source": [
        "# download pre-trained weights\n",
        "local_path = \"weights_resnet18_cifar10.pth\"\n",
        "if not os.path.exists(local_path):\n",
        "    response = requests.get(\n",
        "        \"https://storage.googleapis.com/unlearning-challenge/weights_resnet18_cifar10.pth\"\n",
        "    )\n",
        "    open(local_path, \"wb\").write(response.content)\n",
        "\n",
        "weights_pretrained = torch.load(local_path, map_location=DEVICE)\n",
        "\n",
        "# load model with pre-trained weights\n",
        "model = resnet18(weights=None, num_classes=10)\n",
        "model.load_state_dict(weights_pretrained)\n",
        "model.to(DEVICE)\n",
        "model.eval();"
      ]
    },
    {
      "cell_type": "markdown",
      "metadata": {
        "id": "0OhF8zu1M3bl"
      },
      "source": [
        "Let us show some of the training images, just for fun."
      ]
    },
    {
      "cell_type": "code",
      "execution_count": null,
      "metadata": {
        "id": "ASG-8jPEM3bl"
      },
      "outputs": [],
      "source": [
        "# a temporary data loader without normalization, just to show the images\n",
        "tmp_dl = DataLoader(\n",
        "    torchvision.datasets.CIFAR10(\n",
        "        root=\"./data\", train=True, download=True, transform=transforms.ToTensor()\n",
        "    ),\n",
        "    batch_size=16 * 5,\n",
        "    shuffle=False,\n",
        ")\n",
        "images, labels = next(iter(tmp_dl))\n",
        "\n",
        "fig, ax = plt.subplots(figsize=(12, 6))\n",
        "plt.title(\"Sample images from CIFAR10 dataset\")\n",
        "ax.set_xticks([])\n",
        "ax.set_yticks([])\n",
        "ax.imshow(make_grid(images, nrow=16).permute(1, 2, 0))\n",
        "plt.show()"
      ]
    },
    {
      "cell_type": "markdown",
      "metadata": {
        "id": "cZWK7sDSatvj"
      },
      "source": [
        "We'll now compute the model's accuracy on the train and test set.\n"
      ]
    },
    {
      "cell_type": "code",
      "execution_count": null,
      "metadata": {
        "id": "X2hegPagM3bl"
      },
      "outputs": [],
      "source": [
        "def accuracy(net, loader):\n",
        "    \"\"\"Return accuracy on a dataset given by the data loader.\"\"\"\n",
        "    correct = 0\n",
        "    total = 0\n",
        "\n",
        "    for inputs, targets in loader:\n",
        "        # print(total)\n",
        "        inputs, targets = inputs.to(DEVICE), targets.to(DEVICE)\n",
        "        outputs = net(inputs)\n",
        "        _, predicted = outputs.max(1)\n",
        "        total += targets.size(0)\n",
        "        correct += predicted.eq(targets).sum().item()\n",
        "    return correct / total\n",
        "\n",
        "\n",
        "print(f\"Train set accuracy: {100.0 * accuracy(model, train_loader):0.1f}%\")\n",
        "print(f\"Test set accuracy: {100.0 * accuracy(model, test_loader):0.1f}%\")"
      ]
    },
    {
      "cell_type": "code",
      "execution_count": null,
      "metadata": {
        "id": "dvLkBLisM3bm"
      },
      "outputs": [],
      "source": [
        "def unlearning(net, retain, forget, validation):\n",
        "    \"\"\"Unlearning by fine-tuning.\n",
        "\n",
        "    Fine-tuning is a very simple algorithm that trains using only\n",
        "    the retain set.\n",
        "\n",
        "    Args:\n",
        "      net : nn.Module.\n",
        "        pre-trained model to use as base of unlearning.\n",
        "      retain : torch.utils.data.DataLoader.\n",
        "        Dataset loader for access to the retain set. This is the subset\n",
        "        of the training set that we don't want to forget.\n",
        "      forget : torch.utils.data.DataLoader.\n",
        "        Dataset loader for access to the forget set. This is the subset\n",
        "        of the training set that we want to forget. This method doesn't\n",
        "        make use of the forget set.\n",
        "      validation : torch.utils.data.DataLoader.\n",
        "        Dataset loader for access to the validation set. This method doesn't\n",
        "        make use of the validation set.\n",
        "    Returns:\n",
        "      net : updated model\n",
        "    \"\"\"\n",
        "    epochs = 5\n",
        "\n",
        "    criterion = nn.CrossEntropyLoss()\n",
        "    optimizer = optim.SGD(net.parameters(), lr=0.1, momentum=0.9, weight_decay=5e-4)\n",
        "    scheduler = torch.optim.lr_scheduler.CosineAnnealingLR(optimizer, T_max=epochs)\n",
        "    net.train()\n",
        "\n",
        "    for _ in range(epochs):\n",
        "        for inputs, targets in retain:\n",
        "            inputs, targets = inputs.to(DEVICE), targets.to(DEVICE)\n",
        "            optimizer.zero_grad()\n",
        "            outputs = net(inputs)\n",
        "            loss = criterion(outputs, targets)\n",
        "            loss.backward()\n",
        "            optimizer.step()\n",
        "        scheduler.step()\n",
        "\n",
        "    net.eval()\n",
        "    return net"
      ]
    },
    {
      "cell_type": "markdown",
      "metadata": {
        "id": "kXEWkDTTn4iO"
      },
      "source": [
        "# 🎯 Unlearning Algorithm\n",
        "\n",
        "In this section we develop the unlearning algorithm.\n",
        "\n",
        "In the previous section we created a split of the original training set into a retain set and a forget set. Typically, the retain set is much larger than the forget set. Here, we produce a split that is 10% forget set, and 90% retain set.\n",
        "\n",
        "The goal of an unlearning algorithm is to produce a model that approximates as much as possible the model trained solely on the retain set.\n",
        "\n",
        "Below is a simple unlearning algorithm provided for illustration purposes. We call this algorithm _unlearning by fine-tuning_. It starts from the pre-trained model and optimizes it for a few epochs on the retain set. This is a very simple unlearning algorithm, but it is not very computationally efficient, and we don't expect it to work very well for most metrics.\n",
        "\n",
        "To make a new entry in the competition, participants will submit an unlearning function with the same API as the one below. Note that the unlearning function takes as input a pre-trained model, a retain set, a forget set and an evaluation set (even though the fine-tuning algorithm below only uses the retain set and ignores the other datasets)."
      ]
    },
    {
      "cell_type": "code",
      "execution_count": null,
      "metadata": {
        "id": "fWUxHD3EM3bm"
      },
      "outputs": [],
      "source": [
        "def compute_losses(net, loader):\n",
        "    \"\"\"Auxiliary function to compute per-sample losses\"\"\"\n",
        "\n",
        "    criterion = nn.CrossEntropyLoss(reduction=\"none\")\n",
        "    all_losses = []\n",
        "\n",
        "    for inputs, targets in loader:\n",
        "        inputs, targets = inputs.to(DEVICE), targets.to(DEVICE)\n",
        "\n",
        "        logits = net(inputs)\n",
        "        losses = criterion(logits, targets).numpy(force=True)\n",
        "        for l in losses:\n",
        "            all_losses.append(l)\n",
        "\n",
        "    return np.array(all_losses)\n",
        "\n",
        "\n",
        "train_losses = compute_losses(model, train_loader)\n",
        "test_losses = compute_losses(model, test_loader)"
      ]
    },
    {
      "cell_type": "code",
      "execution_count": null,
      "metadata": {
        "colab": {
          "background_save": true
        },
        "id": "o27hc1HOM3bm"
      },
      "outputs": [],
      "source": [
        "ft_model = resnet18(weights=None, num_classes=10)\n",
        "ft_model.load_state_dict(weights_pretrained)\n",
        "ft_model.to(DEVICE)\n",
        "\n",
        "# Execute the unlearing routine. This might take a few minutes.\n",
        "# If run on colab, be sure to be running it on  an instance with GPUs\n",
        "ft_model = unlearning(ft_model, retain_loader, forget_loader, test_loader)"
      ]
    },
    {
      "cell_type": "markdown",
      "metadata": {
        "id": "1--PInKr9-6B"
      },
      "source": [
        "We have now an unlearned model `ft_model`. Besides the forgetting quality (which we'll discuss in the next section), a good unlearning algorithm should retain as much as possible the accuracy on the retain and test set.\n",
        "\n",
        "To quantify this potential loss of utility, we'll now compute the retain and test accuracies using the unlearned model"
      ]
    },
    {
      "cell_type": "code",
      "execution_count": null,
      "metadata": {
        "colab": {
          "background_save": true
        },
        "id": "Wqp7rN2E9-6B",
        "outputId": "e8b9c974-a5e2-441d-bfbd-0af42c6519e8"
      },
      "outputs": [
        {
          "name": "stdout",
          "output_type": "stream",
          "text": [
            "0\n",
            "128\n",
            "256\n",
            "384\n",
            "512\n",
            "640\n",
            "768\n",
            "896\n",
            "1024\n",
            "1152\n",
            "1280\n",
            "1408\n",
            "1536\n",
            "1664\n",
            "1792\n",
            "1920\n",
            "2048\n",
            "2176\n",
            "2304\n",
            "2432\n",
            "2560\n",
            "2688\n",
            "2816\n",
            "2944\n",
            "3072\n",
            "3200\n",
            "3328\n",
            "3456\n",
            "3584\n",
            "3712\n",
            "3840\n",
            "3968\n",
            "4096\n",
            "4224\n",
            "4352\n",
            "4480\n",
            "4608\n",
            "4736\n",
            "4864\n",
            "4992\n",
            "5120\n",
            "5248\n",
            "5376\n",
            "5504\n",
            "5632\n",
            "5760\n",
            "5888\n",
            "6016\n",
            "6144\n",
            "6272\n",
            "6400\n",
            "6528\n",
            "6656\n",
            "6784\n",
            "6912\n",
            "7040\n",
            "7168\n",
            "7296\n",
            "7424\n",
            "7552\n",
            "7680\n",
            "7808\n",
            "7936\n",
            "8064\n",
            "8192\n",
            "8320\n",
            "8448\n",
            "8576\n",
            "8704\n",
            "8832\n",
            "8960\n",
            "9088\n",
            "9216\n",
            "9344\n",
            "9472\n",
            "9600\n",
            "9728\n",
            "9856\n",
            "9984\n",
            "10112\n",
            "10240\n",
            "10368\n",
            "10496\n",
            "10624\n",
            "10752\n",
            "10880\n",
            "11008\n",
            "11136\n",
            "11264\n",
            "11392\n",
            "11520\n",
            "11648\n",
            "11776\n",
            "11904\n",
            "12032\n",
            "12160\n",
            "12288\n",
            "12416\n",
            "12544\n",
            "12672\n",
            "12800\n",
            "12928\n",
            "13056\n",
            "13184\n",
            "13312\n",
            "13440\n",
            "13568\n",
            "13696\n",
            "13824\n",
            "13952\n",
            "14080\n",
            "14208\n",
            "14336\n",
            "14464\n",
            "14592\n",
            "14720\n",
            "14848\n",
            "14976\n",
            "15104\n",
            "15232\n",
            "15360\n",
            "15488\n",
            "15616\n",
            "15744\n",
            "15872\n",
            "16000\n",
            "16128\n",
            "16256\n",
            "16384\n",
            "16512\n",
            "16640\n",
            "16768\n",
            "16896\n",
            "17024\n",
            "17152\n",
            "17280\n",
            "17408\n",
            "17536\n",
            "17664\n",
            "17792\n",
            "17920\n",
            "18048\n",
            "18176\n",
            "18304\n",
            "18432\n",
            "18560\n",
            "18688\n",
            "18816\n",
            "18944\n",
            "19072\n",
            "19200\n",
            "19328\n",
            "19456\n",
            "19584\n",
            "19712\n",
            "19840\n",
            "19968\n",
            "20096\n",
            "20224\n",
            "20352\n",
            "20480\n",
            "20608\n",
            "20736\n",
            "20864\n",
            "20992\n",
            "21120\n",
            "21248\n",
            "21376\n",
            "21504\n",
            "21632\n",
            "21760\n",
            "21888\n",
            "22016\n",
            "22144\n",
            "22272\n",
            "22400\n",
            "22528\n",
            "22656\n",
            "22784\n",
            "22912\n",
            "23040\n",
            "23168\n",
            "23296\n",
            "23424\n",
            "23552\n",
            "23680\n",
            "23808\n",
            "23936\n",
            "24064\n",
            "24192\n",
            "24320\n",
            "24448\n",
            "24576\n",
            "24704\n",
            "24832\n",
            "24960\n",
            "25088\n",
            "25216\n",
            "25344\n",
            "25472\n",
            "25600\n",
            "25728\n",
            "25856\n",
            "25984\n",
            "26112\n",
            "26240\n",
            "26368\n",
            "26496\n",
            "26624\n",
            "26752\n",
            "26880\n",
            "27008\n",
            "27136\n",
            "27264\n",
            "27392\n",
            "27520\n",
            "27648\n",
            "27776\n",
            "27904\n",
            "28032\n",
            "28160\n",
            "28288\n",
            "28416\n",
            "28544\n",
            "28672\n",
            "28800\n",
            "28928\n",
            "29056\n",
            "29184\n",
            "29312\n",
            "29440\n",
            "29568\n",
            "29696\n",
            "29824\n",
            "29952\n",
            "30080\n",
            "30208\n",
            "30336\n",
            "30464\n",
            "30592\n",
            "30720\n",
            "30848\n",
            "30976\n",
            "31104\n",
            "31232\n",
            "31360\n",
            "31488\n",
            "31616\n",
            "31744\n",
            "31872\n",
            "32000\n",
            "32128\n",
            "32256\n",
            "32384\n",
            "32512\n",
            "32640\n",
            "32768\n",
            "32896\n",
            "33024\n",
            "33152\n",
            "33280\n",
            "33408\n",
            "33536\n",
            "33664\n",
            "33792\n",
            "33920\n",
            "34048\n",
            "34176\n",
            "34304\n",
            "34432\n",
            "34560\n",
            "34688\n",
            "34816\n",
            "34944\n",
            "35072\n",
            "35200\n",
            "35328\n",
            "35456\n",
            "35584\n",
            "35712\n",
            "35840\n",
            "35968\n",
            "36096\n",
            "36224\n",
            "36352\n",
            "36480\n",
            "36608\n",
            "36736\n",
            "36864\n",
            "36992\n",
            "37120\n",
            "37248\n",
            "37376\n",
            "37504\n",
            "37632\n",
            "37760\n",
            "37888\n",
            "38016\n",
            "38144\n",
            "38272\n",
            "38400\n",
            "38528\n",
            "38656\n",
            "38784\n",
            "38912\n",
            "39040\n",
            "39168\n",
            "39296\n",
            "39424\n",
            "39552\n",
            "39680\n",
            "39808\n",
            "39936\n",
            "40064\n",
            "40192\n",
            "40320\n",
            "40448\n",
            "40576\n",
            "40704\n",
            "40832\n",
            "40960\n",
            "41088\n",
            "41216\n",
            "41344\n",
            "41472\n",
            "41600\n",
            "41728\n",
            "41856\n",
            "41984\n",
            "42112\n",
            "42240\n",
            "42368\n",
            "42496\n",
            "42624\n",
            "42752\n",
            "42880\n",
            "43008\n",
            "43136\n",
            "43264\n",
            "43392\n",
            "43520\n",
            "43648\n",
            "43776\n",
            "43904\n",
            "44032\n",
            "44160\n",
            "44288\n",
            "44416\n",
            "44544\n",
            "44672\n",
            "44800\n",
            "44928\n",
            "Retain set accuracy: 97.9%\n",
            "0\n",
            "128\n",
            "256\n",
            "384\n",
            "512\n",
            "640\n",
            "768\n",
            "896\n",
            "1024\n",
            "1152\n",
            "1280\n",
            "1408\n",
            "1536\n",
            "1664\n",
            "1792\n",
            "1920\n",
            "2048\n",
            "2176\n",
            "2304\n",
            "2432\n",
            "2560\n",
            "2688\n",
            "2816\n",
            "2944\n",
            "3072\n",
            "3200\n",
            "3328\n",
            "3456\n",
            "3584\n",
            "3712\n",
            "3840\n",
            "3968\n",
            "4096\n",
            "4224\n",
            "4352\n",
            "4480\n",
            "4608\n",
            "4736\n",
            "4864\n",
            "4992\n",
            "5120\n",
            "5248\n",
            "5376\n",
            "5504\n",
            "5632\n",
            "5760\n",
            "5888\n",
            "6016\n",
            "6144\n",
            "6272\n",
            "6400\n",
            "6528\n",
            "6656\n",
            "6784\n",
            "6912\n",
            "7040\n",
            "7168\n",
            "7296\n",
            "7424\n",
            "7552\n",
            "7680\n",
            "7808\n",
            "7936\n",
            "8064\n",
            "8192\n",
            "8320\n",
            "8448\n",
            "8576\n",
            "8704\n",
            "8832\n",
            "8960\n",
            "9088\n",
            "9216\n",
            "9344\n",
            "9472\n",
            "9600\n",
            "9728\n",
            "9856\n",
            "9984\n",
            "Test set accuracy: 75.8%\n"
          ]
        }
      ],
      "source": [
        "print(f\"Retain set accuracy: {100.0 * accuracy(ft_model, retain_loader):0.1f}%\")\n",
        "print(f\"Test set accuracy: {100.0 * accuracy(ft_model, test_loader):0.1f}%\")"
      ]
    },
    {
      "cell_type": "markdown",
      "metadata": {
        "id": "xccyUQcuM3bl"
      },
      "source": [
        "# 🏅 Evaluation\n",
        "\n",
        "In this section, we'll quantify the quality of the unlearning algorithm through a simple membership inference attack (MIA). We provide this simple MIA for convenience so that participants can quickly obtain a metric for their unlearning algorithm, but submissions will be scored using a different method.\n",
        "\n",
        "This MIA consists of a [logistic regression model](https://scikit-learn.org/stable/modules/linear_model.html#logistic-regression) that predicts whether the model was trained on a particular sample from that sample's loss. To get an idea on the difficulty of this problem, we first plot below a histogram of the losses of the pre-trained model on the train and test set"
      ]
    },
    {
      "cell_type": "code",
      "execution_count": null,
      "metadata": {
        "colab": {
          "background_save": true
        },
        "id": "j2t4sYtZM3bm",
        "outputId": "9408eff7-8533-4d17-cc96-fd547282f9f9"
      },
      "outputs": [
        {
          "data": {
            "image/png": "[encoded data removed]",
            "text/plain": [
              "<Figure size 640x480 with 1 Axes>"
            ]
          },
          "metadata": {},
          "output_type": "display_data"
        }
      ],
      "source": [
        "# plot losses on train and test set\n",
        "plt.title(\"Losses on train and test set (pre-trained model)\")\n",
        "plt.hist(test_losses, density=True, alpha=0.5, bins=50, label=\"Test set\")\n",
        "plt.hist(train_losses, density=True, alpha=0.5, bins=50, label=\"Train set\")\n",
        "plt.xlabel(\"Loss\", fontsize=14)\n",
        "plt.ylabel(\"Frequency\", fontsize=14)\n",
        "plt.xlim((0, np.max(test_losses)))\n",
        "plt.yscale(\"log\")\n",
        "plt.legend(frameon=False, fontsize=14)\n",
        "ax = plt.gca()\n",
        "ax.spines[\"top\"].set_visible(False)\n",
        "ax.spines[\"right\"].set_visible(False)\n",
        "plt.show()"
      ]
    },
    {
      "cell_type": "markdown",
      "metadata": {
        "id": "ApxbefWMM3bm"
      },
      "source": [
        "As per the above plot, the distributions of losses are quite different between the train and test sets, as expected. In what follows, we will define an MIA that leverages the fact that examples that were trained on have smaller losses compared to examples that weren't. Using this fact, the simple MIA defined below will aim to infer whether the forget set was in fact part of the training set.\n",
        "\n",
        "This MIA is defined below. It takes as input the per-sample losses of the unlearned model on forget and test examples, and a membership label (0 or 1) indicating which of those two groups each sample comes from. It then returns the cross-validation accuracy of a linear model trained to distinguish between the two classes.\n",
        "\n",
        "Intuitively, an unlearning algorithm is successful with respect to this simple metric if the attacker isn't able to distinguish the forget set from the test set any better than it would for the ideal unlearning algorithm (retraining from scratch without the retain set); see the last section of this notebook for additional discussion and for computing that reference point."
      ]
    },
    {
      "cell_type": "code",
      "execution_count": null,
      "metadata": {
        "colab": {
          "background_save": true
        },
        "id": "6gBtdz7AM3bm"
      },
      "outputs": [],
      "source": [
        "def simple_mia(sample_loss, members, n_splits=10, random_state=0):\n",
        "    \"\"\"Computes cross-validation score of a membership inference attack.\n",
        "\n",
        "    Args:\n",
        "      sample_loss : array_like of shape (n,).\n",
        "        objective function evaluated on n samples.\n",
        "      members : array_like of shape (n,),\n",
        "        whether a sample was used for training.\n",
        "      n_splits: int\n",
        "        number of splits to use in the cross-validation.\n",
        "    Returns:\n",
        "      scores : array_like of size (n_splits,)\n",
        "    \"\"\"\n",
        "\n",
        "    unique_members = np.unique(members)\n",
        "    if not np.all(unique_members == np.array([0, 1])):\n",
        "        raise ValueError(\"members should only have 0 and 1s\")\n",
        "\n",
        "    attack_model = linear_model.LogisticRegression()\n",
        "    cv = model_selection.StratifiedShuffleSplit(\n",
        "        n_splits=n_splits, random_state=random_state\n",
        "    )\n",
        "    return model_selection.cross_val_score(\n",
        "        attack_model, sample_loss, members, cv=cv, scoring=\"accuracy\"\n",
        "    )"
      ]
    },
    {
      "cell_type": "markdown",
      "metadata": {
        "id": "p0uxLiyO9-6C"
      },
      "source": [
        "As a reference point, we first compute the accuracy of the MIA on the original model to distinguish between the forget set and the test set."
      ]
    },
    {
      "cell_type": "code",
      "execution_count": null,
      "metadata": {
        "id": "wYgYXRvPM3bm",
        "outputId": "3f30d304-b4c6-4278-a767-5119253dc560",
        "colab": {
          "base_uri": "https://localhost:8080/",
          "height": 402
        }
      },
      "outputs": [
        {
          "output_type": "error",
          "ename": "AssertionError",
          "evalue": "",
          "traceback": [
            "\u001b[0;31m---------------------------------------------------------------------------\u001b[0m",
            "\u001b[0;31mAssertionError\u001b[0m                            Traceback (most recent call last)",
            "\u001b[0;32m<ipython-input-30-3084b030c0fa>\u001b[0m in \u001b[0;36m<cell line: 5>\u001b[0;34m()\u001b[0m\n\u001b[1;32m      3\u001b[0m \u001b[0;34m\u001b[0m\u001b[0m\n\u001b[1;32m      4\u001b[0m \u001b[0;31m# make sure we have a balanced dataset for the MIA\u001b[0m\u001b[0;34m\u001b[0m\u001b[0;34m\u001b[0m\u001b[0m\n\u001b[0;32m----> 5\u001b[0;31m \u001b[0;32massert\u001b[0m \u001b[0mlen\u001b[0m\u001b[0;34m(\u001b[0m\u001b[0mft_test_losses\u001b[0m\u001b[0;34m)\u001b[0m \u001b[0;34m==\u001b[0m \u001b[0mlen\u001b[0m\u001b[0;34m(\u001b[0m\u001b[0mft_forget_losses\u001b[0m\u001b[0;34m)\u001b[0m\u001b[0;34m\u001b[0m\u001b[0;34m\u001b[0m\u001b[0m\n\u001b[0m\u001b[1;32m      6\u001b[0m \u001b[0;34m\u001b[0m\u001b[0m\n\u001b[1;32m      7\u001b[0m \u001b[0mft_samples_mia\u001b[0m \u001b[0;34m=\u001b[0m \u001b[0mnp\u001b[0m\u001b[0;34m.\u001b[0m\u001b[0mconcatenate\u001b[0m\u001b[0;34m(\u001b[0m\u001b[0;34m(\u001b[0m\u001b[0mft_test_losses\u001b[0m\u001b[0;34m,\u001b[0m \u001b[0mft_forget_losses\u001b[0m\u001b[0;34m)\u001b[0m\u001b[0;34m)\u001b[0m\u001b[0;34m.\u001b[0m\u001b[0mreshape\u001b[0m\u001b[0;34m(\u001b[0m\u001b[0;34m(\u001b[0m\u001b[0;34m-\u001b[0m\u001b[0;36m1\u001b[0m\u001b[0;34m,\u001b[0m \u001b[0;36m1\u001b[0m\u001b[0;34m)\u001b[0m\u001b[0;34m)\u001b[0m\u001b[0;34m\u001b[0m\u001b[0;34m\u001b[0m\u001b[0m\n",
            "\u001b[0;31mAssertionError\u001b[0m: "
          ]
        }
      ],
      "source": [
        "ft_forget_losses = compute_losses(ft_model, forget_loader)\n",
        "ft_test_losses = compute_losses(ft_model, test_loader)\n",
        "\n",
        "# make sure we have a balanced dataset for the MIA\n",
        "assert len(ft_test_losses) == len(ft_forget_losses)\n",
        "\n",
        "ft_samples_mia = np.concatenate((ft_test_losses, ft_forget_losses)).reshape((-1, 1))\n",
        "labels_mia = [0] * len(ft_test_losses) + [1] * len(ft_forget_losses)"
      ]
    },
    {
      "cell_type": "code",
      "execution_count": null,
      "metadata": {
        "id": "ekuEyHlUM3bm"
      },
      "outputs": [],
      "source": [
        "forget_losses = compute_losses(model, forget_loader)\n",
        "\n",
        "# Since we have more forget losses than test losses, sub-sample them, to have a class-balanced dataset.\n",
        "np.random.shuffle(forget_losses)\n",
        "forget_losses = forget_losses[: len(test_losses)]\n",
        "\n",
        "samples_mia = np.concatenate((test_losses, forget_losses)).reshape((-1, 1))\n",
        "labels_mia = [0] * len(test_losses) + [1] * len(forget_losses)\n",
        "\n",
        "mia_scores = simple_mia(samples_mia, labels_mia)\n",
        "\n",
        "print(\n",
        "    f\"The MIA has an accuracy of {mia_scores.mean():.3f} on forgotten vs unseen images\"\n",
        ")"
      ]
    },
    {
      "cell_type": "markdown",
      "metadata": {
        "id": "12Ek9x4zM3bm"
      },
      "source": [
        "We'll now compute the accuracy of the MIA on the unlearned model. We expect the MIA to be less accurate on the unlearned model than on the original model, since the original model has not undergone a procedure to unlearn the forget set."
      ]
    },
    {
      "cell_type": "code",
      "execution_count": null,
      "metadata": {
        "id": "BWvzT3cPGvYs"
      },
      "outputs": [],
      "source": [
        "ft_mia_scores = simple_mia(ft_samples_mia, labels_mia)\n",
        "\n",
        "print(\n",
        "    f\"The MIA has an accuracy of {ft_mia_scores.mean():.3f} on forgotten vs unseen images\"\n",
        ")"
      ]
    },
    {
      "cell_type": "markdown",
      "metadata": {
        "id": "vyTh5ej49-6C"
      },
      "source": [
        "From the score above, the MIA is indeed less accurate on the unlearned model than on the original model, as expected. Finally, we'll plot the histogram of losses of the unlearned model on the train and test set. From the below figure, we can observe that the distributions of forget and test losses are more similar under the unlearned model compared to the original model, as expected."
      ]
    },
    {
      "cell_type": "code",
      "execution_count": null,
      "metadata": {
        "id": "bJ8JI-GDM3bn"
      },
      "outputs": [],
      "source": [
        "fig, (ax1, ax2) = plt.subplots(1, 2, figsize=(16, 6))\n",
        "\n",
        "ax1.set_title(f\"Pre-trained model.\\nAttack accuracy: {mia_scores.mean():0.2f}\")\n",
        "ax1.hist(test_losses, density=True, alpha=0.5, bins=50, label=\"Test set\")\n",
        "ax1.hist(forget_losses, density=True, alpha=0.5, bins=50, label=\"Forget set\")\n",
        "\n",
        "ax2.set_title(\n",
        "    f\"Unlearned by fine-tuning.\\nAttack accuracy: {ft_mia_scores.mean():0.2f}\"\n",
        ")\n",
        "ax2.hist(ft_test_losses, density=True, alpha=0.5, bins=50, label=\"Test set\")\n",
        "ax2.hist(ft_forget_losses, density=True, alpha=0.5, bins=50, label=\"Forget set\")\n",
        "\n",
        "ax1.set_xlabel(\"Loss\")\n",
        "ax2.set_xlabel(\"Loss\")\n",
        "ax1.set_ylabel(\"Frequency\")\n",
        "ax1.set_yscale(\"log\")\n",
        "ax2.set_yscale(\"log\")\n",
        "ax1.set_xlim((0, np.max(test_losses)))\n",
        "ax2.set_xlim((0, np.max(test_losses)))\n",
        "for ax in (ax1, ax2):\n",
        "    ax.spines[\"top\"].set_visible(False)\n",
        "    ax.spines[\"right\"].set_visible(False)\n",
        "ax1.legend(frameon=False, fontsize=14)\n",
        "plt.show()"
      ]
    },
    {
      "cell_type": "markdown",
      "metadata": {
        "id": "qqeUwUVO-NjD"
      },
      "source": [
        "## Comparison with a re-trained model\n",
        "\n",
        "One might ask, how good are the scores above? What is the best score? Since our goal is to approximate the model that has been trained only on the retain set, we'll consider that the gold standard is the score achieved by this model. Intuitively, we expect the MIA accuracy to be around 0.5, since for such a model, both the forget and test set are unseen samples from the same distribution. However, a number of factors such as distribution shift or class imbalance can make this number vary.\n",
        "\n",
        "We'll now compute this score. We'll first download the weights for a model trained exclusively on the retain set and then compute the accuracy of the simple MIA."
      ]
    },
    {
      "cell_type": "code",
      "execution_count": null,
      "metadata": {
        "id": "44XEVh4-_Fz5"
      },
      "outputs": [],
      "source": [
        "# download weights of a model trained exclusively on the retain set\n",
        "local_path = \"retrain_weights_resnet18_cifar10.pth\"\n",
        "if not os.path.exists(local_path):\n",
        "    response = requests.get(\n",
        "        \"https://storage.googleapis.com/unlearning-challenge/\" + local_path\n",
        "    )\n",
        "    open(local_path, \"wb\").write(response.content)\n",
        "\n",
        "weights_pretrained = torch.load(local_path, map_location=DEVICE)\n",
        "\n",
        "# load model with pre-trained weights\n",
        "rt_model = resnet18(weights=None, num_classes=10)\n",
        "rt_model.load_state_dict(weights_pretrained)\n",
        "rt_model.to(DEVICE)\n",
        "rt_model.eval()\n",
        "\n",
        "# print its accuracy on retain and forget set\n",
        "print(f\"Retain set accuracy: {100.0 * accuracy(rt_model, retain_loader):0.1f}%\")\n",
        "print(f\"Forget set accuracy: {100.0 * accuracy(rt_model, forget_loader):0.1f}%\")"
      ]
    },
    {
      "cell_type": "markdown",
      "metadata": {
        "id": "qnqSz58yG92l"
      },
      "source": [
        "As expected, the model trained exclusively on the retain set has a higher accuracy on the retain set than on the forget set (whose accuracy is similar than on the test set)"
      ]
    },
    {
      "cell_type": "code",
      "execution_count": null,
      "metadata": {
        "id": "PqGSYyuE_GtI"
      },
      "outputs": [],
      "source": [
        "rt_test_losses = compute_losses(rt_model, test_loader)\n",
        "rt_forget_losses = compute_losses(rt_model, forget_loader)\n",
        "\n",
        "rt_samples_mia = np.concatenate((rt_test_losses, rt_forget_losses)).reshape((-1, 1))\n",
        "labels_mia = [0] * len(rt_test_losses) + [1] * len(rt_forget_losses)"
      ]
    },
    {
      "cell_type": "code",
      "execution_count": null,
      "metadata": {
        "id": "YLedO-Ps_q8n"
      },
      "outputs": [],
      "source": [
        "rt_mia_scores = simple_mia(rt_samples_mia, labels_mia)\n",
        "\n",
        "print(\n",
        "    f\"The MIA has an accuracy of {rt_mia_scores.mean():.3f} on forgotten vs unseen images\"\n",
        ")"
      ]
    },
    {
      "cell_type": "markdown",
      "metadata": {
        "id": "z9vbFFPZDP-W"
      },
      "source": [
        "As we expect, the accuracy of the MIA attack is roughly 0.5. Finally, as we've done before, let's compare the histograms of this ideal algorithm (re-trained model) vs the model obtain from"
      ]
    },
    {
      "cell_type": "code",
      "execution_count": null,
      "metadata": {
        "id": "okhS6CSOAT1N"
      },
      "outputs": [],
      "source": [
        "fig, (ax1, ax2) = plt.subplots(1, 2, figsize=(16, 6))\n",
        "\n",
        "ax1.set_title(f\"Re-trained model.\\nAttack accuracy: {rt_mia_scores.mean():0.2f}\")\n",
        "ax1.hist(rt_test_losses, density=True, alpha=0.5, bins=50, label=\"Test set\")\n",
        "ax1.hist(rt_forget_losses, density=True, alpha=0.5, bins=50, label=\"Forget set\")\n",
        "\n",
        "ax2.set_title(\n",
        "    f\"Unlearned by fine-tuning.\\nAttack accuracy: {ft_mia_scores.mean():0.2f}\"\n",
        ")\n",
        "ax2.hist(ft_test_losses, density=True, alpha=0.5, bins=50, label=\"Test set\")\n",
        "ax2.hist(ft_forget_losses, density=True, alpha=0.5, bins=50, label=\"Forget set\")\n",
        "\n",
        "ax1.set_xlabel(\"Loss\")\n",
        "ax2.set_xlabel(\"Loss\")\n",
        "ax1.set_ylabel(\"Frequency\")\n",
        "ax1.set_yscale(\"log\")\n",
        "ax2.set_yscale(\"log\")\n",
        "ax1.set_xlim((0, np.max(test_losses)))\n",
        "ax2.set_xlim((0, np.max(test_losses)))\n",
        "for ax in (ax1, ax2):\n",
        "    ax.spines[\"top\"].set_visible(False)\n",
        "    ax.spines[\"right\"].set_visible(False)\n",
        "ax1.legend(frameon=False, fontsize=14)\n",
        "plt.show()"
      ]
    },
    {
      "cell_type": "markdown",
      "metadata": {
        "id": "zVNCJ9dyIuVO"
      },
      "source": [
        "**Adversarial Attack**"
      ]
    },
    {
      "cell_type": "code",
      "execution_count": null,
      "metadata": {
        "id": "CYTGGV56EEMN"
      },
      "outputs": [],
      "source": []
    },
    {
      "cell_type": "code",
      "execution_count": null,
      "metadata": {
        "id": "wcZuoK6LJfZ_"
      },
      "outputs": [],
      "source": []
    }
  ],
  "metadata": {
    "accelerator": "GPU",
    "colab": {
      "gpuType": "T4",
      "provenance": []
    },
    "kernelspec": {
      "display_name": "Python 3",
      "name": "python3"
    },
    "language_info": {
      "codemirror_mode": {
        "name": "ipython",
        "version": 3
      },
      "file_extension": ".py",
      "mimetype": "text/x-python",
      "name": "python",
      "nbconvert_exporter": "python",
      "pygments_lexer": "ipython3",
      "version": "3.11.5"
    }
  },
  "nbformat": 4,
  "nbformat_minor": 0
}